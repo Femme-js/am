{
  "nbformat": 4,
  "nbformat_minor": 0,
  "metadata": {
    "colab": {
      "name": "Amazon ML challenge.ipynb",
      "provenance": []
    },
    "kernelspec": {
      "name": "python3",
      "display_name": "Python 3"
    },
    "language_info": {
      "name": "python"
    }
  },
  "cells": [
    {
      "cell_type": "code",
      "metadata": {
        "id": "xbnakJXsibAW"
      },
      "source": [
        "from IPython.core.debugger import set_trace\n",
        "\n",
        "# %load_ext nb_black\n",
        "\n",
        "import pandas as pd\n",
        "import numpy as np\n",
        "import os\n",
        "import matplotlib.pyplot as plt\n",
        "import time\n",
        "import csv\n",
        "plt.style.use(style=\"seaborn\")\n",
        "%matplotlib inline\n",
        "\n",
        "import nltk\n",
        "nltk.download('stopwords')\n",
        "nltk.download('punkt')\n",
        "from nltk.tokenize import word_tokenize\n",
        "import nltk\n",
        "\n",
        "from keras.preprocessing.text import Tokenizer\n",
        "from keras.preprocessing.sequence import pad_sequences\n",
        "from keras.models import Sequential\n",
        "from keras.layers import Embedding, LSTM, Dense, Dropout\n",
        "from keras.initializers import Constant\n",
        "from keras.optimizers import Adam\n",
        "from sklearn.preprocessing import LabelEncoder\n"
      ],
      "execution_count": 54,
      "outputs": []
    },
    {
      "cell_type": "code",
      "metadata": {
        "id": "H8VBDfI4ilXC"
      },
      "source": [
        "train = pd.read_csv('/content/drive/MyDrive/train.csv', escapechar = \"\\\\\",quoting=csv.QUOTE_NONE)"
      ],
      "execution_count": null,
      "outputs": []
    },
    {
      "cell_type": "code",
      "metadata": {
        "colab": {
          "base_uri": "https://localhost:8080/",
          "height": 203
        },
        "id": "c4X9phU1imCu",
        "outputId": "1415d000-562e-4f6f-97b1-17b969dd1548"
      },
      "source": [
        "train['DESCRIPTION'] = train['DESCRIPTION'].fillna('a')\n",
        "train['TITLE'] = train['TITLE'].fillna('a')\n",
        "train['BULLET_POINTS'] = train['BULLET_POINTS'].fillna('a')\n",
        "train['BRAND'] = train['BRAND'].fillna('a')\n",
        "train.head()"
      ],
      "execution_count": null,
      "outputs": [
        {
          "output_type": "execute_result",
          "data": {
            "text/html": [
              "<div>\n",
              "<style scoped>\n",
              "    .dataframe tbody tr th:only-of-type {\n",
              "        vertical-align: middle;\n",
              "    }\n",
              "\n",
              "    .dataframe tbody tr th {\n",
              "        vertical-align: top;\n",
              "    }\n",
              "\n",
              "    .dataframe thead th {\n",
              "        text-align: right;\n",
              "    }\n",
              "</style>\n",
              "<table border=\"1\" class=\"dataframe\">\n",
              "  <thead>\n",
              "    <tr style=\"text-align: right;\">\n",
              "      <th></th>\n",
              "      <th>TITLE</th>\n",
              "      <th>DESCRIPTION</th>\n",
              "      <th>BULLET_POINTS</th>\n",
              "      <th>BRAND</th>\n",
              "      <th>BROWSE_NODE_ID</th>\n",
              "    </tr>\n",
              "  </thead>\n",
              "  <tbody>\n",
              "    <tr>\n",
              "      <th>0</th>\n",
              "      <td>Pete The Cat Bedtime Blues Doll, 14.5 Inch</td>\n",
              "      <td>Pete the Cat is the coolest, most popular cat ...</td>\n",
              "      <td>[Pete the Cat Bedtime Blues plush doll,Based o...</td>\n",
              "      <td>MerryMakers</td>\n",
              "      <td>0</td>\n",
              "    </tr>\n",
              "    <tr>\n",
              "      <th>1</th>\n",
              "      <td>The New Yorker NYHM014 Refrigerator Magnet, 2 ...</td>\n",
              "      <td>The New Yorker Handsome Cello Wrapped Hard Mag...</td>\n",
              "      <td>[Cat In A Tea Cup by New Yorker cover artist G...</td>\n",
              "      <td>The New Yorker</td>\n",
              "      <td>1</td>\n",
              "    </tr>\n",
              "    <tr>\n",
              "      <th>2</th>\n",
              "      <td>The Ultimate Self-Sufficiency Handbook: A Comp...</td>\n",
              "      <td>a</td>\n",
              "      <td>Skyhorse Publishing</td>\n",
              "      <td>imusti</td>\n",
              "      <td>2</td>\n",
              "    </tr>\n",
              "    <tr>\n",
              "      <th>3</th>\n",
              "      <td>Amway Nutrilite Kids Chewable Iron Tablets (100)</td>\n",
              "      <td>a</td>\n",
              "      <td>[Nutrilite Kids,Chewable Iron Tablets,Quantity...</td>\n",
              "      <td>Amway</td>\n",
              "      <td>3</td>\n",
              "    </tr>\n",
              "    <tr>\n",
              "      <th>4</th>\n",
              "      <td>Teacher Planner Company A4 6 Lesson Academic T...</td>\n",
              "      <td>a</td>\n",
              "      <td>a</td>\n",
              "      <td>a</td>\n",
              "      <td>4</td>\n",
              "    </tr>\n",
              "  </tbody>\n",
              "</table>\n",
              "</div>"
            ],
            "text/plain": [
              "                                               TITLE  ... BROWSE_NODE_ID\n",
              "0         Pete The Cat Bedtime Blues Doll, 14.5 Inch  ...              0\n",
              "1  The New Yorker NYHM014 Refrigerator Magnet, 2 ...  ...              1\n",
              "2  The Ultimate Self-Sufficiency Handbook: A Comp...  ...              2\n",
              "3   Amway Nutrilite Kids Chewable Iron Tablets (100)  ...              3\n",
              "4  Teacher Planner Company A4 6 Lesson Academic T...  ...              4\n",
              "\n",
              "[5 rows x 5 columns]"
            ]
          },
          "metadata": {
            "tags": []
          },
          "execution_count": 3
        }
      ]
    },
    {
      "cell_type": "code",
      "metadata": {
        "id": "W6OXZTUEipHI"
      },
      "source": [
        "train[\"FEATURE\"] = train[\"TITLE\"] + train[\"DESCRIPTION\"] + train['BULLET_POINTS'] + train['BRAND']"
      ],
      "execution_count": null,
      "outputs": []
    },
    {
      "cell_type": "code",
      "metadata": {
        "colab": {
          "base_uri": "https://localhost:8080/",
          "height": 203
        },
        "id": "EcdQuLrDipcZ",
        "outputId": "1ff07ac9-c9e8-4b4b-a591-d5bc42d6f89f"
      },
      "source": [
        "train.drop([\"TITLE\",\"DESCRIPTION\",'BULLET_POINTS','BRAND'], axis = 1, inplace= True)\n",
        "train.head()"
      ],
      "execution_count": null,
      "outputs": [
        {
          "output_type": "execute_result",
          "data": {
            "text/html": [
              "<div>\n",
              "<style scoped>\n",
              "    .dataframe tbody tr th:only-of-type {\n",
              "        vertical-align: middle;\n",
              "    }\n",
              "\n",
              "    .dataframe tbody tr th {\n",
              "        vertical-align: top;\n",
              "    }\n",
              "\n",
              "    .dataframe thead th {\n",
              "        text-align: right;\n",
              "    }\n",
              "</style>\n",
              "<table border=\"1\" class=\"dataframe\">\n",
              "  <thead>\n",
              "    <tr style=\"text-align: right;\">\n",
              "      <th></th>\n",
              "      <th>BROWSE_NODE_ID</th>\n",
              "      <th>FEATURE</th>\n",
              "    </tr>\n",
              "  </thead>\n",
              "  <tbody>\n",
              "    <tr>\n",
              "      <th>0</th>\n",
              "      <td>0</td>\n",
              "      <td>Pete The Cat Bedtime Blues Doll, 14.5 InchPete...</td>\n",
              "    </tr>\n",
              "    <tr>\n",
              "      <th>1</th>\n",
              "      <td>1</td>\n",
              "      <td>The New Yorker NYHM014 Refrigerator Magnet, 2 ...</td>\n",
              "    </tr>\n",
              "    <tr>\n",
              "      <th>2</th>\n",
              "      <td>2</td>\n",
              "      <td>The Ultimate Self-Sufficiency Handbook: A Comp...</td>\n",
              "    </tr>\n",
              "    <tr>\n",
              "      <th>3</th>\n",
              "      <td>3</td>\n",
              "      <td>Amway Nutrilite Kids Chewable Iron Tablets (10...</td>\n",
              "    </tr>\n",
              "    <tr>\n",
              "      <th>4</th>\n",
              "      <td>4</td>\n",
              "      <td>Teacher Planner Company A4 6 Lesson Academic T...</td>\n",
              "    </tr>\n",
              "  </tbody>\n",
              "</table>\n",
              "</div>"
            ],
            "text/plain": [
              "   BROWSE_NODE_ID                                            FEATURE\n",
              "0               0  Pete The Cat Bedtime Blues Doll, 14.5 InchPete...\n",
              "1               1  The New Yorker NYHM014 Refrigerator Magnet, 2 ...\n",
              "2               2  The Ultimate Self-Sufficiency Handbook: A Comp...\n",
              "3               3  Amway Nutrilite Kids Chewable Iron Tablets (10...\n",
              "4               4  Teacher Planner Company A4 6 Lesson Academic T..."
            ]
          },
          "metadata": {
            "tags": []
          },
          "execution_count": 5
        }
      ]
    },
    {
      "cell_type": "code",
      "metadata": {
        "id": "-Ufa_GhwitJ9"
      },
      "source": [
        "import string\n",
        "\n",
        "\n",
        "def remove_punct(text):\n",
        "    table = str.maketrans(\"\", \"\", string.punctuation)\n",
        "    return text.translate(table)"
      ],
      "execution_count": null,
      "outputs": []
    },
    {
      "cell_type": "code",
      "metadata": {
        "id": "6jJ7fiGBve8V"
      },
      "source": [
        "train[\"FEATURE\"] = train.FEATURE.map(lambda x: remove_punct(x))"
      ],
      "execution_count": null,
      "outputs": []
    },
    {
      "cell_type": "code",
      "metadata": {
        "id": "ik-xx9oJviOi"
      },
      "source": [
        "from nltk.corpus import stopwords\n",
        "\n",
        "stop = set(stopwords.words(\"english\"))\n",
        "\n",
        "\n",
        "def remove_stopwords(text):\n",
        "    text = [word.lower() for word in text.split() if word.lower() not in stop]\n",
        "\n",
        "    return \" \".join(text)\n",
        "\n",
        "train[\"FEATURE\"] = train[\"FEATURE\"].map(remove_stopwords)"
      ],
      "execution_count": null,
      "outputs": []
    },
    {
      "cell_type": "code",
      "metadata": {
        "colab": {
          "base_uri": "https://localhost:8080/"
        },
        "id": "A3aR08J7wZ4t",
        "outputId": "651fd12b-c8f7-4fad-a4f2-6f6ab8deeab8"
      },
      "source": [
        "train.FEATURE"
      ],
      "execution_count": null,
      "outputs": [
        {
          "output_type": "execute_result",
          "data": {
            "text/plain": [
              "0          pete cat bedtime blues doll 145 inchpete cat c...\n",
              "1          new yorker nyhm014 refrigerator magnet 2 x 35t...\n",
              "2          ultimate selfsufficiency handbook complete gui...\n",
              "3          amway nutrilite kids chewable iron tablets 100...\n",
              "4          teacher planner company a4 6 lesson academic t...\n",
              "                                 ...                        \n",
              "2903019    premium aviator sunglasses hd polarized bright...\n",
              "2903020    social distance stickers set 5 sticker slip re...\n",
              "2903021    torrto face shield pack 5 adjustable elastic s...\n",
              "2903022    typec 35 mm oppo r17 pro typec 35 mm audio jac...\n",
              "2903023    kng orange polo tshirt 38performance inspired ...\n",
              "Name: FEATURE, Length: 2903024, dtype: object"
            ]
          },
          "metadata": {
            "tags": []
          },
          "execution_count": 9
        }
      ]
    },
    {
      "cell_type": "code",
      "metadata": {
        "id": "S2LDJem82Flr"
      },
      "source": [
        "groups = train.groupby('BROWSE_NODE_ID').count()"
      ],
      "execution_count": null,
      "outputs": []
    },
    {
      "cell_type": "code",
      "metadata": {
        "colab": {
          "base_uri": "https://localhost:8080/",
          "height": 447
        },
        "id": "--Vwf_x22fP1",
        "outputId": "01a86f6e-360e-4d62-a58f-6ba61c78188f"
      },
      "source": [
        "groups[groups['FEATURE']>5000]"
      ],
      "execution_count": null,
      "outputs": [
        {
          "output_type": "execute_result",
          "data": {
            "text/html": [
              "<div>\n",
              "<style scoped>\n",
              "    .dataframe tbody tr th:only-of-type {\n",
              "        vertical-align: middle;\n",
              "    }\n",
              "\n",
              "    .dataframe tbody tr th {\n",
              "        vertical-align: top;\n",
              "    }\n",
              "\n",
              "    .dataframe thead th {\n",
              "        text-align: right;\n",
              "    }\n",
              "</style>\n",
              "<table border=\"1\" class=\"dataframe\">\n",
              "  <thead>\n",
              "    <tr style=\"text-align: right;\">\n",
              "      <th></th>\n",
              "      <th>FEATURE</th>\n",
              "    </tr>\n",
              "    <tr>\n",
              "      <th>BROWSE_NODE_ID</th>\n",
              "      <th></th>\n",
              "    </tr>\n",
              "  </thead>\n",
              "  <tbody>\n",
              "    <tr>\n",
              "      <th>4</th>\n",
              "      <td>34177</td>\n",
              "    </tr>\n",
              "    <tr>\n",
              "      <th>5</th>\n",
              "      <td>70318</td>\n",
              "    </tr>\n",
              "    <tr>\n",
              "      <th>11</th>\n",
              "      <td>21660</td>\n",
              "    </tr>\n",
              "    <tr>\n",
              "      <th>22</th>\n",
              "      <td>9020</td>\n",
              "    </tr>\n",
              "    <tr>\n",
              "      <th>40</th>\n",
              "      <td>14784</td>\n",
              "    </tr>\n",
              "    <tr>\n",
              "      <th>...</th>\n",
              "      <td>...</td>\n",
              "    </tr>\n",
              "    <tr>\n",
              "      <th>1922</th>\n",
              "      <td>7753</td>\n",
              "    </tr>\n",
              "    <tr>\n",
              "      <th>1971</th>\n",
              "      <td>5919</td>\n",
              "    </tr>\n",
              "    <tr>\n",
              "      <th>1988</th>\n",
              "      <td>5028</td>\n",
              "    </tr>\n",
              "    <tr>\n",
              "      <th>2472</th>\n",
              "      <td>9877</td>\n",
              "    </tr>\n",
              "    <tr>\n",
              "      <th>3780</th>\n",
              "      <td>5254</td>\n",
              "    </tr>\n",
              "  </tbody>\n",
              "</table>\n",
              "<p>93 rows × 1 columns</p>\n",
              "</div>"
            ],
            "text/plain": [
              "                FEATURE\n",
              "BROWSE_NODE_ID         \n",
              "4                 34177\n",
              "5                 70318\n",
              "11                21660\n",
              "22                 9020\n",
              "40                14784\n",
              "...                 ...\n",
              "1922               7753\n",
              "1971               5919\n",
              "1988               5028\n",
              "2472               9877\n",
              "3780               5254\n",
              "\n",
              "[93 rows x 1 columns]"
            ]
          },
          "metadata": {
            "tags": []
          },
          "execution_count": 11
        }
      ]
    },
    {
      "cell_type": "code",
      "metadata": {
        "colab": {
          "base_uri": "https://localhost:8080/"
        },
        "id": "WSI3bxbz7A3D",
        "outputId": "6276f491-e05b-4f2e-cd24-766395139dcb"
      },
      "source": [
        "trainA = train[train['BROWSE_NODE_ID']>50000]\n",
        "print(len(train))\n",
        "print(len(trainA))"
      ],
      "execution_count": null,
      "outputs": [
        {
          "output_type": "stream",
          "text": [
            "2903024\n",
            "90182\n"
          ],
          "name": "stdout"
        }
      ]
    },
    {
      "cell_type": "code",
      "metadata": {
        "id": "YT5yv8Le1EVZ"
      },
      "source": [
        "def create_corpus_tk(df):\n",
        "    corpus = []\n",
        "    for text in df[\"FEATURE\"]:\n",
        "        words = [word.lower() for word in word_tokenize(text)]\n",
        "        corpus.append(words)\n",
        "    return corpus"
      ],
      "execution_count": null,
      "outputs": []
    },
    {
      "cell_type": "code",
      "metadata": {
        "id": "kFBV2AG34wBH"
      },
      "source": [
        "corpus = create_corpus_tk(trainA)"
      ],
      "execution_count": null,
      "outputs": []
    },
    {
      "cell_type": "code",
      "metadata": {
        "id": "AJofRgrz4zBQ"
      },
      "source": [
        "train.to_csv('/content/drive/MyDrive/pre_processed_train.csv')"
      ],
      "execution_count": null,
      "outputs": []
    },
    {
      "cell_type": "code",
      "metadata": {
        "colab": {
          "base_uri": "https://localhost:8080/",
          "height": 34
        },
        "id": "PQfFPVwxEcWD",
        "outputId": "c3713f63-6504-4f90-f7b4-16a94f1f60b2"
      },
      "source": [
        "from google.colab import files\n",
        "files.download('pre_processed_train.csv') "
      ],
      "execution_count": null,
      "outputs": [
        {
          "output_type": "display_data",
          "data": {
            "application/javascript": [
              "\n",
              "    async function download(id, filename, size) {\n",
              "      if (!google.colab.kernel.accessAllowed) {\n",
              "        return;\n",
              "      }\n",
              "      const div = document.createElement('div');\n",
              "      const label = document.createElement('label');\n",
              "      label.textContent = `Downloading \"${filename}\": `;\n",
              "      div.appendChild(label);\n",
              "      const progress = document.createElement('progress');\n",
              "      progress.max = size;\n",
              "      div.appendChild(progress);\n",
              "      document.body.appendChild(div);\n",
              "\n",
              "      const buffers = [];\n",
              "      let downloaded = 0;\n",
              "\n",
              "      const channel = await google.colab.kernel.comms.open(id);\n",
              "      // Send a message to notify the kernel that we're ready.\n",
              "      channel.send({})\n",
              "\n",
              "      for await (const message of channel.messages) {\n",
              "        // Send a message to notify the kernel that we're ready.\n",
              "        channel.send({})\n",
              "        if (message.buffers) {\n",
              "          for (const buffer of message.buffers) {\n",
              "            buffers.push(buffer);\n",
              "            downloaded += buffer.byteLength;\n",
              "            progress.value = downloaded;\n",
              "          }\n",
              "        }\n",
              "      }\n",
              "      const blob = new Blob(buffers, {type: 'application/binary'});\n",
              "      const a = document.createElement('a');\n",
              "      a.href = window.URL.createObjectURL(blob);\n",
              "      a.download = filename;\n",
              "      div.appendChild(a);\n",
              "      a.click();\n",
              "      div.remove();\n",
              "    }\n",
              "  "
            ],
            "text/plain": [
              "<IPython.core.display.Javascript object>"
            ]
          },
          "metadata": {
            "tags": []
          }
        },
        {
          "output_type": "display_data",
          "data": {
            "application/javascript": [
              "download(\"download_48da431e-3143-4375-ba41-8cb98135164e\", \"pre_processed_train.csv\", 2088587287)"
            ],
            "text/plain": [
              "<IPython.core.display.Javascript object>"
            ]
          },
          "metadata": {
            "tags": []
          }
        }
      ]
    },
    {
      "cell_type": "code",
      "metadata": {
        "colab": {
          "base_uri": "https://localhost:8080/"
        },
        "id": "hcPmp_scGyb-",
        "outputId": "968a0cc4-d46a-499a-da6c-a70a74c2e764"
      },
      "source": [
        "corpus[0][:10]"
      ],
      "execution_count": null,
      "outputs": [
        {
          "output_type": "execute_result",
          "data": {
            "text/plain": [
              "['anbau',\n",
              " '4',\n",
              " 'digit',\n",
              " 'hand',\n",
              " 'tally',\n",
              " 'counter',\n",
              " 'digital',\n",
              " 'pitch',\n",
              " 'counters',\n",
              " 'clicker']"
            ]
          },
          "metadata": {
            "tags": []
          },
          "execution_count": 24
        }
      ]
    },
    {
      "cell_type": "code",
      "metadata": {
        "id": "Gc34mBihHHox"
      },
      "source": [
        "train_size = int(trainA.shape[0] * 0.8)\n",
        "\n",
        "train_sentences = trainA.FEATURE[:train_size]\n",
        "train_labels = trainA.BROWSE_NODE_ID[:train_size]\n",
        "\n",
        "test_sentences = trainA.FEATURE[train_size:]\n",
        "test_labels = trainA.BROWSE_NODE_ID[train_size:]"
      ],
      "execution_count": null,
      "outputs": []
    },
    {
      "cell_type": "code",
      "metadata": {
        "colab": {
          "base_uri": "https://localhost:8080/"
        },
        "id": "eomtwpKfIZlv",
        "outputId": "261060a2-9648-4f34-d069-e1512510798a"
      },
      "source": [
        "num_words = len(corpus)\n",
        "print(num_words)"
      ],
      "execution_count": null,
      "outputs": [
        {
          "output_type": "stream",
          "text": [
            "90182\n"
          ],
          "name": "stdout"
        }
      ]
    },
    {
      "cell_type": "code",
      "metadata": {
        "id": "ww-RQGj2H21n"
      },
      "source": [
        "# tokenizer = Tokenizer(num_words=num_words)\n",
        "# tokenizer.fit_on_texts(train_sentences)\n",
        "\n",
        "tokenizer = Tokenizer(num_words=num_words)\n",
        "tokenizer.fit_on_texts(list(train_sentences)+list(test_sentences))\n",
        "train_X = tokenizer.texts_to_sequences(train_sentences)\n",
        "test_X = tokenizer.texts_to_sequences(train_sentences)"
      ],
      "execution_count": 56,
      "outputs": []
    },
    {
      "cell_type": "code",
      "metadata": {
        "id": "Lkg5Yb_lI1tc"
      },
      "source": [
        "# train_sequences = tokenizer.texts_to_sequences(train_sentences)\n",
        "# train_sentences"
      ],
      "execution_count": 57,
      "outputs": []
    },
    {
      "cell_type": "code",
      "metadata": {
        "id": "YC3FQOUKI9l4"
      },
      "source": [
        "# train_sequences[0]"
      ],
      "execution_count": null,
      "outputs": []
    },
    {
      "cell_type": "code",
      "metadata": {
        "id": "ozYPuYNXJFkN"
      },
      "source": [
        "max_len = 250\n",
        "train_padded = pad_sequences(train_X, maxlen=max_len)\n",
        "test_padded = pad_sequences(test_X, maxlen=max_len)"
      ],
      "execution_count": 66,
      "outputs": []
    },
    {
      "cell_type": "code",
      "metadata": {
        "colab": {
          "base_uri": "https://localhost:8080/"
        },
        "id": "KmQY_sOcJtUq",
        "outputId": "cb635ea1-eebd-4bd8-af3a-0c34f5f96a36"
      },
      "source": [
        "train_padded"
      ],
      "execution_count": 67,
      "outputs": [
        {
          "output_type": "execute_result",
          "data": {
            "text/plain": [
              "array([[     0,      0,      0, ...,     87,  12477, 208250],\n",
              "       [ 32113,    237,    891, ...,  24890,  30216,   1172],\n",
              "       [     0,      0,      0, ...,    345,    976, 118902],\n",
              "       ...,\n",
              "       [     0,      0,      0, ...,  10370,   5724,  87112],\n",
              "       [     0,      0,      0, ...,   1158,   2981,   2164],\n",
              "       [     0,      0,      0, ...,    751,     39,    135]], dtype=int32)"
            ]
          },
          "metadata": {
            "tags": []
          },
          "execution_count": 67
        }
      ]
    },
    {
      "cell_type": "code",
      "metadata": {
        "colab": {
          "base_uri": "https://localhost:8080/"
        },
        "id": "lVNKWeSMJvVV",
        "outputId": "c4fdc1d9-221f-44fe-84fb-41bfb5c5bc85"
      },
      "source": [
        "print(train.FEATURE[0])\n",
        "print(train_X[0])"
      ],
      "execution_count": 61,
      "outputs": [
        {
          "output_type": "stream",
          "text": [
            "pete cat bedtime blues doll 145 inchpete cat coolest popular cat town new pete cat bedtime blues doll merrymakers rocks striped pjs red slippers one sleepy cat ready cuddle measures 145 inches tall safe ages removable clothing surface wash new 2015pete cat bedtime blues plush dollbased popular pete cat books james deansuper cuddly ready naptime bedtimesafe ages perfect ages 2 upmeasures 14 5 inchesmerrymakers\n",
            "[     0      0      0      0      0      0      0      0      0      0\n",
            "      0      0      0      0      0      0      0      0      0      0\n",
            "      0      0      0      0      0      0      0      0      0      0\n",
            "      0      0      0      0      0      0      0      0      0      0\n",
            "      0      0      0      0      0      0      0      0      0      0\n",
            "      0      0      0      0      0      0      0      0      0      0\n",
            "      0      0      0      0      0      0      0      0      0      0\n",
            "      0      0      0      0      0      0      0      0      0      0\n",
            "      0      0      0      0      0      0      0      0      0      0\n",
            "      0      0      0      0      0      0      0      0      0      0\n",
            "      0      0      0      0      0      0      0      0      0      0\n",
            "      0      0      0      0      0      0      0      0      0      0\n",
            "      0  18661     27   4190     60   6873   1805    210   2206   7756\n",
            "  17039   1522   1733   2095   1361   7756    259 118875   6873   1805\n",
            "    133     38     45    723 118876     55   1522   1805     27   7032\n",
            "     36   3710    483    845   3618   1196    621   1010   3495    234\n",
            "   2336   9437   3710  85961   8013   1872    260     60    141  13966\n",
            "   1355   4190    164 118877   2088    705  20180   1729     55   2322\n",
            "    176    873   1810      5 118878     87  12477 118879     55  85962\n",
            "    156   9004 118880    156  13967 118881   1666    169     60   6873\n",
            " 118882   6873   1805    133     38     45    723  49562     55   1522\n",
            "   1805     27   7032     36   3710    483    845   3618   1196    621\n",
            "   1010   3495    234   2336   9437 118883   8013   1872    260     60\n",
            "    141  13966   1355   4190    164 118884   2088    705  20180   1729\n",
            "     55   2322    176    873   1810      5 118885     87  12477 208250]\n"
          ],
          "name": "stdout"
        }
      ]
    },
    {
      "cell_type": "code",
      "metadata": {
        "colab": {
          "base_uri": "https://localhost:8080/"
        },
        "id": "WFNFBjFeJ_Ji",
        "outputId": "045cc374-b090-4552-f64e-9f987c968a66"
      },
      "source": [
        "word_index = tokenizer.word_index\n",
        "print(\"Number of unique words:\", len(word_index))"
      ],
      "execution_count": 62,
      "outputs": [
        {
          "output_type": "stream",
          "text": [
            "Number of unique words: 698155\n"
          ],
          "name": "stdout"
        }
      ]
    },
    {
      "cell_type": "code",
      "metadata": {
        "id": "pbQ5hAV2c20X"
      },
      "source": [
        "le = LabelEncoder()\n",
        "train_labels = le.fit_transform(train_labels)\n",
        "test_labels = le.fit_transform(test_labels)"
      ],
      "execution_count": 68,
      "outputs": []
    },
    {
      "cell_type": "code",
      "metadata": {
        "id": "9nl1IqyJKhEQ"
      },
      "source": [
        "embedding_dict = {}\n",
        "with open(\"/content/drive/MyDrive/glove.twitter.27B.100d.txt\", \"r\") as f:\n",
        "    for line in f:\n",
        "        values = line.split()\n",
        "        word = values[0]\n",
        "        vectors = np.asarray(values[1:], \"float32\")\n",
        "        embedding_dict[word] = vectors\n",
        "f.close()"
      ],
      "execution_count": null,
      "outputs": []
    },
    {
      "cell_type": "code",
      "metadata": {
        "id": "QQpr2YAUQEPv"
      },
      "source": [
        "num_words = len(word_index) + 1\n",
        "embedding_matrix = np.zeros((num_words, 100))\n",
        "\n",
        "for word, i in word_index.items():\n",
        "    if i < num_words:\n",
        "        emb_vec = embedding_dict.get(word)\n",
        "        if emb_vec is not None:\n",
        "            embedding_matrix[i] = emb_vec"
      ],
      "execution_count": null,
      "outputs": []
    },
    {
      "cell_type": "code",
      "metadata": {
        "id": "J6b0DzIFRDTO"
      },
      "source": [
        "model = Sequential()\n",
        "\n",
        "model.add(\n",
        "    Embedding(\n",
        "        num_words,\n",
        "        100,\n",
        "        embeddings_initializer=Constant(embedding_matrix),\n",
        "        input_length=max_len,\n",
        "        trainable=False,\n",
        "    )\n",
        ")\n",
        "model.add(LSTM(150, dropout=0.1))\n",
        "model.add(Dense(93, activation=\"Softmax\"))\n",
        "\n",
        "\n",
        "optimizer = Adam(learning_rate=3e-4)\n",
        "\n",
        "model.compile(loss=\"categorical_crossentropy\", optimizer=optimizer, metrics=[\"accuracy\"])"
      ],
      "execution_count": 49,
      "outputs": []
    },
    {
      "cell_type": "code",
      "metadata": {
        "id": "bA0EvrI7TPv_"
      },
      "source": [
        "history = model.fit(\n",
        "    train_padded,\n",
        "    train_labels,\n",
        "    epochs=5,\n",
        "    validation_data=(test_padded, test_labels),\n",
        "    verbose=1,\n",
        ")"
      ],
      "execution_count": 74,
      "outputs": []
    },
    {
      "cell_type": "code",
      "metadata": {
        "id": "TnQBCuLmZ1B4"
      },
      "source": [
        ""
      ],
      "execution_count": null,
      "outputs": []
    }
  ]
}